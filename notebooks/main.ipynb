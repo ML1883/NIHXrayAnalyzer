{
 "cells": [
  {
   "cell_type": "markdown",
   "metadata": {},
   "source": [
    "# Data exploration\n",
    "In this notebook we read in the data and visualize it to see it is clean,etc.\n",
    "\n",
    "At the end the data gets written away to train the model.\n",
    "\n",
    "In early versions this will all be done in the same notebook."
   ]
  },
  {
   "cell_type": "markdown",
   "metadata": {},
   "source": [
    "#### Import and checks"
   ]
  },
  {
   "cell_type": "code",
   "execution_count": null,
   "metadata": {},
   "outputs": [],
   "source": [
    "# Import libraries\n",
    "import torch\n",
    "from torchvision import datasets, transforms\n",
    "import os\n",
    "import sys\n",
    "sys.path.append(os.path.dirname(os.getcwd()))\n",
    "\n",
    "from src import model_def as md\n",
    "from src import data_processing as dp"
   ]
  },
  {
   "cell_type": "code",
   "execution_count": null,
   "metadata": {},
   "outputs": [],
   "source": [
    "# check if Pytorch CUDA is installed correctly\n",
    "\n",
    "print(\"CUDA Available:\", torch.cuda.is_available())\n",
    "print(\"CUDA Device Count:\", torch.cuda.device_count())\n",
    "if torch.cuda.is_available():\n",
    "    print(\"CUDA Device Name:\", torch.cuda.get_device_name(0))\n",
    "\n",
    "print(\"CUDA Version:\", torch.version.cuda)\n",
    "print(\"cuDNN Version:\", torch.backends.cudnn.version())"
   ]
  },
  {
   "cell_type": "markdown",
   "metadata": {},
   "source": [
    "#### Pre-sorting\n",
    "\n",
    "Sort data accoridng to provided label of the given classification of the dataset (data_entry_2017.csv)\n",
    "\n",
    "Multiple findings/diagnoses means that a copy gets put into each finding folder. This to get as much samples as possible in each outcome for training purposes.\n",
    "\n",
    "Both sort test and train images. TODO: do this without two seperate loops/make it a function."
   ]
  },
  {
   "cell_type": "code",
   "execution_count": null,
   "metadata": {},
   "outputs": [],
   "source": [
    "csv_path = os.path.join(\"..\", \"data\", \"classification\", \"Data_Entry_2017_v2020.csv\")\n",
    "image_folder = os.path.join(\"..\", \"data\", \"images_train\")\n",
    "output_folder = os.path.join(\"..\", \"data\", \"images_sorted_train\")\n",
    "\n",
    "dp.organize_images(csv_path, image_folder, output_folder)\n",
    "\n",
    "image_folder = os.path.join(\"..\", \"data\", \"images_test\")\n",
    "output_folder = os.path.join(\"..\", \"data\", \"images_sorted_test\")\n",
    "\n",
    "dp.organize_images(csv_path, image_folder, output_folder)"
   ]
  },
  {
   "cell_type": "markdown",
   "metadata": {},
   "source": [
    "#### Data loading\n",
    "\n",
    "Import a testset to be used in training\n",
    "\n",
    "We normalize the input since we work in grayscale. No size transformations are done since the dataset is already in 1024X1024."
   ]
  },
  {
   "cell_type": "code",
   "execution_count": null,
   "metadata": {},
   "outputs": [],
   "source": [
    "train_image_folder = os.path.join(\"..\", \"data\", \"images_sorted_train\")\n",
    "test_image_folder = os.path.join(\"..\", \"data\", \"images_sorted_test\")\n",
    "# print(train_image_folder)\n",
    "\n",
    "transform = transforms.Compose([\n",
    "    transforms.ToTensor(),\n",
    "    transforms.Normalize(mean=[0.5], std=[0.5]),\n",
    "    transforms.Grayscale(num_output_channels=1), \n",
    "])\n",
    "\n",
    "dataset_xrays_train = datasets.ImageFolder(root=train_image_folder, transform=transform)\n",
    "dataset_xrays_test = datasets.ImageFolder(root=test_image_folder, transform=transform)\n",
    "\n",
    "print(dataset_xrays_train)"
   ]
  },
  {
   "cell_type": "markdown",
   "metadata": {},
   "source": [
    "#### Model setup\n",
    "Below the actual model is trained"
   ]
  },
  {
   "cell_type": "code",
   "execution_count": null,
   "metadata": {},
   "outputs": [],
   "source": [
    "# num_class = 0\n",
    "# for subobject in os.listdir(output_folder):\n",
    "#     subobject_path = os.path.join(output_folder, subobject)\n",
    "\n",
    "#     if os.path.isdir(subobject_path):\n",
    "#         num_class+=1\n",
    "\n",
    "model, data_loader, criterion, optimizer, device = md.setup_model_and_training(dataset_xrays_train)\n",
    "data_loader_test = md.setup_dataloader(dataset_xrays_test)\n",
    "model = md.train_model(model, data_loader, criterion, optimizer, device, num_epochs=10)\n"
   ]
  },
  {
   "cell_type": "markdown",
   "metadata": {},
   "source": [
    "#### Evaluate the model\n",
    "First eval against the train set, then evala gainst test set"
   ]
  },
  {
   "cell_type": "code",
   "execution_count": null,
   "metadata": {},
   "outputs": [],
   "source": [
    "\n",
    "metrics = md.evaluate_model(model, data_loader, device, class_names=dataset_xrays_train.classes)\n",
    "# md.visualize_predictions(model, data_loader, device, num_examples=5, class_names=dataset_xrays_test.classes)\n",
    "misclass_df = md.analyze_misclassifications(model, data_loader, device, class_names=dataset_xrays_train.classes)\n",
    "hard_examples = md.find_hard_examples(model, data_loader, device, n=5)"
   ]
  },
  {
   "cell_type": "markdown",
   "metadata": {},
   "source": [
    "Eval against test set"
   ]
  },
  {
   "cell_type": "code",
   "execution_count": null,
   "metadata": {},
   "outputs": [],
   "source": [
    "\n",
    "metrics = md.evaluate_model(model, data_loader_test, device, class_names=dataset_xrays_test.classes)\n",
    "# md.visualize_predictions(model, data_loader_test, device, num_examples=5, class_names=dataset_xrays_test.classes)\n",
    "misclass_df = md.analyze_misclassifications(model, data_loader_test, device, class_names=dataset_xrays_test.classes)\n",
    "hard_examples = md.find_hard_examples(model, data_loader_test, device, n=5)"
   ]
  }
 ],
 "metadata": {
  "kernelspec": {
   "display_name": ".venv",
   "language": "python",
   "name": "python3"
  },
  "language_info": {
   "codemirror_mode": {
    "name": "ipython",
    "version": 3
   },
   "file_extension": ".py",
   "mimetype": "text/x-python",
   "name": "python",
   "nbconvert_exporter": "python",
   "pygments_lexer": "ipython3",
   "version": "3.13.2"
  }
 },
 "nbformat": 4,
 "nbformat_minor": 2
}
